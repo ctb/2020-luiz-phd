{
 "cells": [
  {
   "cell_type": "code",
   "execution_count": 1,
   "metadata": {},
   "outputs": [],
   "source": [
    "import os\n",
    "\n",
    "%matplotlib inline\n",
    "%config InlineBackend.close_figures = False\n",
    "\n",
    "import matplotlib.pyplot as plt\n",
    "import pandas as pd\n",
    "import seaborn as sns\n",
    "from ficus import FigureManager\n",
    "\n",
    "sns.set()"
   ]
  },
  {
   "cell_type": "markdown",
   "metadata": {},
   "source": [
    "## metagenomes (source)"
   ]
  },
  {
   "cell_type": "code",
   "execution_count": 2,
   "metadata": {},
   "outputs": [],
   "source": [
    "metagenomes = pd.read_table(\"metagenomes_source-20200821.csv\", sep=',', usecols=[\"Run\", \"size_MB\"])"
   ]
  },
  {
   "cell_type": "code",
   "execution_count": 3,
   "metadata": {},
   "outputs": [],
   "source": [
    "done_sigs = pd.read_table(\"done_sigs\", sep=\"\\t\", names=[\"Run\", \"size_KB\"])\n",
    "done_sigs[\"Run\"] = done_sigs[\"Run\"].str.replace(r\".*/(?P<id>\\w+).sig\", lambda m: m.group(\"id\"))\n",
    "done_sigs[\"size_MB\"] = done_sigs[\"size_KB\"] / 1024\n",
    "del done_sigs[\"size_KB\"]\n",
    "done_sigs = done_sigs.set_index(\"Run\")"
   ]
  },
  {
   "cell_type": "code",
   "execution_count": 4,
   "metadata": {},
   "outputs": [],
   "source": [
    "missing_metagenomes = metagenomes.drop_duplicates(subset=[\"Run\"]).set_index(\"Run\").reindex(set(metagenomes[\"Run\"]).difference(set(done_sigs.index)))\n",
    "missing_metagenomes = missing_metagenomes[missing_metagenomes[\"size_MB\"] > 0]"
   ]
  },
  {
   "cell_type": "code",
   "execution_count": 5,
   "metadata": {},
   "outputs": [
    {
     "name": "stdout",
     "output_type": "stream",
     "text": [
      "# metagenomes\n",
      "          size_MB\n",
      "count  569,475.00\n",
      "mean       812.86\n",
      "std      2,731.13\n",
      "min          0.00\n",
      "25%          4.00\n",
      "50%         28.00\n",
      "75%        523.00\n",
      "max    170,085.00\n",
      "sum: 462,905,718.00\n",
      "\n",
      "# missing\n",
      "          size_MB\n",
      "count   63,624.00\n",
      "mean     3,313.25\n",
      "std      5,542.37\n",
      "min          1.00\n",
      "25%        169.00\n",
      "50%        951.00\n",
      "75%      4,594.00\n",
      "max    133,104.00\n",
      "sum: 210,802,216.00\n",
      "max:\n",
      "               size_MB\n",
      "Run                   \n",
      "ERR3152367  133,104.00\n"
     ]
    }
   ],
   "source": [
    "all_desc = metagenomes.describe()\n",
    "print(\"# metagenomes\")\n",
    "print(all_desc.applymap(lambda x: \"{:,.2f}\".format(x)))\n",
    "print(\"sum: {:,.2f}\".format(metagenomes['size_MB'].sum()))\n",
    "print()\n",
    "\n",
    "missing_desc = missing_metagenomes.describe()\n",
    "print(\"# missing\")\n",
    "print(missing_desc.applymap(lambda x: \"{:,.2f}\".format(x)))\n",
    "print(\"sum: {:,.2f}\".format(missing_metagenomes['size_MB'].sum()))\n",
    "print(\"max:\")\n",
    "print(missing_metagenomes.loc[missing_metagenomes.idxmax()].applymap(lambda x: \"{:,.2f}\".format(x)))"
   ]
  },
  {
   "cell_type": "code",
   "execution_count": 6,
   "metadata": {},
   "outputs": [
    {
     "name": "stdout",
     "output_type": "stream",
     "text": [
      "# metagenomes\n",
      "          size_MB\n",
      "count  569,475.00\n",
      "mean       812.86\n",
      "std      2,731.13\n",
      "min          0.00\n",
      "25%          4.00\n",
      "50%         28.00\n",
      "75%        523.00\n",
      "max    170,085.00\n",
      "sum: 462,905,718.00\n",
      "\n",
      "# missing\n",
      "          size_MB\n",
      "count   63,624.00\n",
      "mean     3,313.25\n",
      "std      5,542.37\n",
      "min          1.00\n",
      "25%        169.00\n",
      "50%        951.00\n",
      "75%      4,594.00\n",
      "max    133,104.00\n",
      "sum: 210,802,216.00\n",
      "max:\n",
      "               size_MB\n",
      "Run                   \n",
      "ERR3152367  133,104.00\n"
     ]
    }
   ],
   "source": [
    "all_desc = metagenomes.describe()\n",
    "print(\"# metagenomes\")\n",
    "print(all_desc.applymap(lambda x: \"{:,.2f}\".format(x)))\n",
    "print(\"sum: {:,.2f}\".format(metagenomes['size_MB'].sum()))\n",
    "print()\n",
    "\n",
    "missing_desc = missing_metagenomes.describe()\n",
    "print(\"# missing\")\n",
    "print(missing_desc.applymap(lambda x: \"{:,.2f}\".format(x)))\n",
    "print(\"sum: {:,.2f}\".format(missing_metagenomes['size_MB'].sum()))\n",
    "print(\"max:\")\n",
    "print(missing_metagenomes.loc[missing_metagenomes.idxmax()].applymap(lambda x: \"{:,.2f}\".format(x)))"
   ]
  },
  {
   "cell_type": "code",
   "execution_count": 7,
   "metadata": {},
   "outputs": [
    {
     "data": {
      "text/plain": [
       "37740"
      ]
     },
     "execution_count": 7,
     "metadata": {},
     "output_type": "execute_result"
    }
   ],
   "source": [
    "len(missing_metagenomes[(missing_metagenomes[\"size_MB\"] < 3000)])"
   ]
  },
  {
   "cell_type": "code",
   "execution_count": 8,
   "metadata": {},
   "outputs": [
    {
     "data": {
      "image/png": "[encoded data removed]",
      "text/plain": [
       "<Figure size 720x576 with 1 Axes>"
      ]
     },
     "metadata": {},
     "output_type": "display_data"
    }
   ],
   "source": [
    "with FigureManager(figsize=(10, 8), show=True) as (fig, ax):\n",
    "    sns.distplot(missing_metagenomes[\"size_MB\"], kde=False, ax=ax, bins=range(1, 6000, 50))\n",
    "    #sns.swarmplot(data=missing, y=\"size_MB\", color=\".2\", ax=ax)"
   ]
  },
  {
   "cell_type": "code",
   "execution_count": 9,
   "metadata": {},
   "outputs": [
    {
     "data": {
      "image/png": "[encoded data removed]",
      "text/plain": [
       "<Figure size 720x576 with 1 Axes>"
      ]
     },
     "metadata": {},
     "output_type": "display_data"
    }
   ],
   "source": [
    "with FigureManager(figsize=(10, 8), show=True) as (fig, ax):\n",
    "    sns.distplot(metagenomes[\"size_MB\"], kde=False, ax=ax, bins=range(3000, 10000, 50))\n",
    "    #sns.swarmplot(data=missing, y=\"size_MB\", color=\".2\", ax=ax)"
   ]
  },
  {
   "cell_type": "code",
   "execution_count": 10,
   "metadata": {},
   "outputs": [
    {
     "data": {
      "image/png": "[encoded data removed]",
      "text/plain": [
       "<Figure size 720x576 with 1 Axes>"
      ]
     },
     "metadata": {},
     "output_type": "display_data"
    }
   ],
   "source": [
    "with FigureManager(figsize=(10, 8), show=True) as (fig, ax):\n",
    "    sns.distplot(metagenomes[\"size_MB\"], kde=False, ax=ax, bins=range(1, 175000, 1000))\n",
    "    #sns.swarmplot(data=missing, y=\"size_MB\", color=\".2\", ax=ax)"
   ]
  },
  {
   "cell_type": "code",
   "execution_count": 11,
   "metadata": {},
   "outputs": [],
   "source": [
    "done_sigs_metagenomes = metagenomes.drop_duplicates(subset=[\"Run\"]).set_index(\"Run\").reindex(set(metagenomes[\"Run\"]).intersection(set(done_sigs.index)))"
   ]
  },
  {
   "cell_type": "code",
   "execution_count": 12,
   "metadata": {},
   "outputs": [
    {
     "data": {
      "text/plain": [
       "size_MB    2.248365e+06\n",
       "dtype: float64"
      ]
     },
     "execution_count": 12,
     "metadata": {},
     "output_type": "execute_result"
    }
   ],
   "source": [
    "done_sigs.reindex(done_sigs_metagenomes.index).sum()"
   ]
  },
  {
   "cell_type": "code",
   "execution_count": 13,
   "metadata": {},
   "outputs": [],
   "source": [
    "import scipy\n",
    "from scipy.stats import pareto\n",
    "import numpy as np"
   ]
  },
  {
   "cell_type": "code",
   "execution_count": 14,
   "metadata": {},
   "outputs": [],
   "source": [
    "counts, bins = np.histogram(metagenomes[\"size_MB\"], bins=range(1, 175000, 10))"
   ]
  },
  {
   "cell_type": "code",
   "execution_count": null,
   "metadata": {},
   "outputs": [
    {
     "name": "stderr",
     "output_type": "stream",
     "text": [
      "/home/luizirber/miniconda3/envs/thesis/lib/python3.7/site-packages/scipy/stats/_distn_infrastructure.py:2407: RuntimeWarning: invalid value encountered in double_scalars\n",
      "  Lhat = muhat - Shat*mu\n"
     ]
    }
   ],
   "source": [
    "b, loc, scale = pareto.fit(metagenomes[\"size_MB\"])\n",
    "b, loc, scale"
   ]
  },
  {
   "cell_type": "code",
   "execution_count": null,
   "metadata": {},
   "outputs": [],
   "source": [
    "rv = pareto(b)"
   ]
  },
  {
   "cell_type": "code",
   "execution_count": null,
   "metadata": {},
   "outputs": [],
   "source": [
    "#mean, var, skew, kurt\n",
    "pareto.stats(b, moments='mvsk')"
   ]
  },
  {
   "cell_type": "code",
   "execution_count": null,
   "metadata": {},
   "outputs": [],
   "source": [
    "norm_counts = counts / np.linalg.norm(counts, ord=1)"
   ]
  },
  {
   "cell_type": "code",
   "execution_count": null,
   "metadata": {},
   "outputs": [],
   "source": [
    "with FigureManager(figsize=(10, 5), show=True) as (fig, ax):\n",
    "    plt.loglog(bins[:-1], norm_counts, 'x')\n",
    "    x = np.linspace(pareto.ppf(0.01, b),\n",
    "                    pareto.ppf(0.99, b), 100)\n",
    "    plt.loglog(bins[:-1], rv.pdf(bins[:-1]), 'r-', lw=5, alpha=0.6, label='pareto pdf')\n",
    "    #plt.loglog(bins[:-1], powlaw(bins[:-1], *popt), 'o')\n",
    "    #plt.loglog(bins[:-1], powlaw(bins[:-1], popt[0], -.9999999), '--')"
   ]
  },
  {
   "cell_type": "code",
   "execution_count": null,
   "metadata": {},
   "outputs": [],
   "source": [
    "with FigureManager(figsize=(10, 5), show=True, filename=\"../../thesis/figure/wortMetagSizes.png\") as (fig, ax):\n",
    "    ar = sorted(metagenomes[\"size_MB\"])#, reverse=True)\n",
    "    y = np.cumsum(ar).astype(\"float32\")  \n",
    "    y = np.hstack((0,y))\n",
    "    x = np.linspace(0, 100, y.size)\n",
    "    plt.plot(x,y)\n",
    "    plt.title(\"Cumulative sum of dataset sizes\")\n",
    "    plt.ylabel(\"cumulative size (MB)\")\n",
    "    plt.xlabel(\"percentage of total datasets (sorted by size)\")"
   ]
  },
  {
   "cell_type": "markdown",
   "metadata": {},
   "source": [
    "## Microbial"
   ]
  },
  {
   "cell_type": "code",
   "execution_count": null,
   "metadata": {},
   "outputs": [],
   "source": [
    "microbial = pd.read_table(\"microbial_new_20200603.csv\", sep=',', usecols=[\"Run\", \"size_MB\"])\n",
    "\n",
    "done_sigs = pd.read_table(\"done_sigs\", sep=\"\\t\", names=[\"Run\", \"size_KB\"])\n",
    "done_sigs[\"Run\"] = done_sigs[\"Run\"].str.replace(r\".*/(?P<id>\\w+).sig\", lambda m: m.group(\"id\"))\n",
    "done_sigs[\"size_MB\"] = done_sigs[\"size_KB\"] / 1024\n",
    "del done_sigs[\"size_KB\"]\n",
    "done_sigs = done_sigs.set_index(\"Run\")\n",
    "done = microbial.set_index(\"Run\").reindex(done_sigs.index)\n",
    "done[\"sig size_MB\"] = done_sigs[\"size_MB\"]\n",
    "\n",
    "missing = microbial.set_index(\"Run\").reindex(set(microbial[\"Run\"]).difference(set(done_sigs.index)))"
   ]
  },
  {
   "cell_type": "code",
   "execution_count": null,
   "metadata": {},
   "outputs": [],
   "source": [
    "all_desc = microbial.describe()\n",
    "print(\"# all\")\n",
    "print(all_desc.applymap(lambda x: \"{:,.2f}\".format(x)))\n",
    "print(\"sum: {:,.2f}\".format(microbial['size_MB'].sum()))\n",
    "print()\n",
    "\n",
    "done_desc = done.describe()\n",
    "print(\"# done\")\n",
    "print(done_desc.applymap(lambda x: \"{:,.2f}\".format(x)))\n",
    "print(\"sum: {:,.2f}\".format(done['size_MB'].sum()))\n",
    "print(\"max:\")\n",
    "print(done.loc[done.idxmax()].applymap(lambda x: \"{:,.2f}\".format(x)))\n",
    "print()\n",
    "\n",
    "missing_desc = missing.describe()\n",
    "print(\"# missing\")\n",
    "print(missing_desc.applymap(lambda x: \"{:,.2f}\".format(x)))\n",
    "print(\"sum: {:,.2f}\".format(missing['size_MB'].sum()))\n",
    "print(\"max:\")\n",
    "print(missing.loc[missing.idxmax()].applymap(lambda x: \"{:,.2f}\".format(x)))"
   ]
  },
  {
   "cell_type": "code",
   "execution_count": null,
   "metadata": {},
   "outputs": [],
   "source": [
    "with FigureManager(figsize=(10, 8), show=True) as (fig, ax):\n",
    "    sns.distplot(missing[\"size_MB\"], kde=False, ax=ax, bins=range(1, 5000, 100))\n",
    "    #sns.swarmplot(data=missing, y=\"size_MB\", color=\".2\", ax=ax)"
   ]
  },
  {
   "cell_type": "code",
   "execution_count": null,
   "metadata": {},
   "outputs": [],
   "source": [
    "all_desc = microbial.describe()\n",
    "print(\"# all\")\n",
    "print(all_desc.applymap(lambda x: \"{:,.2f}\".format(x)))\n",
    "print(\"sum: {:,.2f}\".format(microbial['size_MB'].sum()))\n",
    "print()\n",
    "\n",
    "done_desc = done.describe()\n",
    "print(\"# done\")\n",
    "print(done_desc.applymap(lambda x: \"{:,.2f}\".format(x)))\n",
    "print(\"sum: {:,.2f}  {:,.2f}\".format(*done.sum()))\n",
    "print(\"max:\")\n",
    "print(done.loc[done.idxmax()].applymap(lambda x: \"{:,.2f}\".format(x)))\n",
    "print()\n",
    "\n",
    "missing_desc = missing.describe()\n",
    "print(\"# missing\")\n",
    "print(missing_desc.applymap(lambda x: \"{:,.2f}\".format(x)))\n",
    "print(\"sum: {:,.2f}\".format(missing['size_MB'].sum()))\n",
    "print(\"max:\")\n",
    "print(missing.loc[missing.idxmax()].applymap(lambda x: \"{:,.2f}\".format(x)))"
   ]
  },
  {
   "cell_type": "code",
   "execution_count": null,
   "metadata": {},
   "outputs": [],
   "source": [
    "with FigureManager(figsize=(10, 8), show=True) as (fig, ax):\n",
    "    sns.distplot(missing[\"size_MB\"], kde=False, ax=ax, bins=range(1, 5000, 100))\n",
    "    #sns.swarmplot(data=missing, y=\"size_MB\", color=\".2\", ax=ax)"
   ]
  },
  {
   "cell_type": "code",
   "execution_count": null,
   "metadata": {},
   "outputs": [],
   "source": [
    "len(microbial[(microbial[\"size_MB\"] < 10000) & (microbial[\"size_MB\"] > 1600)])"
   ]
  },
  {
   "cell_type": "code",
   "execution_count": null,
   "metadata": {},
   "outputs": [],
   "source": [
    "len(missing[(missing[\"size_MB\"] < 10000) & (missing[\"size_MB\"] > 1600)])"
   ]
  },
  {
   "cell_type": "code",
   "execution_count": null,
   "metadata": {},
   "outputs": [],
   "source": [
    "len(missing[missing[\"size_MB\"] > 1600])"
   ]
  },
  {
   "cell_type": "code",
   "execution_count": null,
   "metadata": {},
   "outputs": [],
   "source": [
    "len(missing[missing[\"size_MB\"] < 1600])"
   ]
  },
  {
   "cell_type": "code",
   "execution_count": null,
   "metadata": {},
   "outputs": [],
   "source": [
    "with FigureManager(figsize=(10, 8), show=True) as (fig, ax):\n",
    "    sns.boxplot(data=done, y=\"size_MB\", ax=ax)\n",
    "    # sns.swarmplot(x=\"domain\", y=\"21\", data=plot_df, color=\".2\", ax=ax)\n",
    "    ax.set_yscale(\"log\")\n",
    "    #ax.set_ylabel(\"sketch size (k=21)\")"
   ]
  },
  {
   "cell_type": "code",
   "execution_count": null,
   "metadata": {},
   "outputs": [],
   "source": [
    "with FigureManager(figsize=(10, 8), show=True) as (fig, ax):\n",
    "    sns.boxplot(data=microbial, y=\"size_MB\", ax=ax)\n",
    "    # sns.swarmplot(x=\"domain\", y=\"21\", data=plot_df, color=\".2\", ax=ax)\n",
    "    ax.set_yscale(\"log\")\n",
    "    #ax.set_ylabel(\"sketch size (k=21)\")"
   ]
  },
  {
   "cell_type": "code",
   "execution_count": null,
   "metadata": {},
   "outputs": [],
   "source": [
    "with FigureManager(figsize=(10, 8), show=True) as (fig, ax):\n",
    "    sns.boxplot(data=done, y=\"sig size_MB\", ax=ax)\n",
    "    # sns.swarmplot(x=\"domain\", y=\"21\", data=plot_df, color=\".2\", ax=ax)\n",
    "    ax.set_yscale(\"log\")\n",
    "    #ax.set_ylabel(\"sketch size (k=21)\")"
   ]
  },
  {
   "cell_type": "code",
   "execution_count": null,
   "metadata": {},
   "outputs": [],
   "source": [
    "with FigureManager(figsize=(10, 8), show=True) as (fig, ax):\n",
    "    sns.boxplot(data=missing, y=\"size_MB\", ax=ax)\n",
    "    # sns.swarmplot(x=\"domain\", y=\"21\", data=plot_df, color=\".2\", ax=ax)\n",
    "    ax.set_yscale(\"log\")\n",
    "    #ax.set_ylabel(\"sketch size (k=21)\")"
   ]
  },
  {
   "cell_type": "markdown",
   "metadata": {},
   "source": [
    "## Not plants or animals"
   ]
  },
  {
   "cell_type": "code",
   "execution_count": null,
   "metadata": {},
   "outputs": [],
   "source": [
    "not_plants_animals = pd.read_table(\"no_plants_animals_20200617.csv\", sep=',', usecols=[\"Run\", \"size_MB\"])\n",
    "\n",
    "done_sigs = pd.read_table(\"done_sigs\", sep=\"\\t\", names=[\"Run\", \"size_KB\"])\n",
    "done_sigs[\"Run\"] = done_sigs[\"Run\"].str.replace(r\".*/(?P<id>\\w+).sig\", lambda m: m.group(\"id\"))\n",
    "done_sigs[\"size_MB\"] = done_sigs[\"size_KB\"] / 1024\n",
    "del done_sigs[\"size_KB\"]\n",
    "done_sigs = done_sigs.set_index(\"Run\")"
   ]
  },
  {
   "cell_type": "code",
   "execution_count": null,
   "metadata": {},
   "outputs": [],
   "source": [
    "missing_not_plants_animals = not_plants_animals.drop_duplicates(subset=[\"Run\"]).set_index(\"Run\").reindex(set(not_plants_animals[\"Run\"]).difference(set(done_sigs.index)))\n",
    "missing_not_plants_animals = missing_not_plants_animals[missing_not_plants_animals[\"size_MB\"] > 0]"
   ]
  },
  {
   "cell_type": "code",
   "execution_count": null,
   "metadata": {},
   "outputs": [],
   "source": [
    "all_desc = not_plants_animals.describe()\n",
    "print(\"# not plants or animals\")\n",
    "print(all_desc.applymap(lambda x: \"{:,.2f}\".format(x)))\n",
    "print(\"sum: {:,.2f}\".format(not_plants_animals['size_MB'].sum()))\n",
    "print()\n",
    "\n",
    "missing_desc = missing_not_plants_animals.describe()\n",
    "print(\"# missing\")\n",
    "print(missing_desc.applymap(lambda x: \"{:,.2f}\".format(x)))\n",
    "print(\"sum: {:,.2f}\".format(missing_not_plants_animals['size_MB'].sum()))\n",
    "print(\"max:\")\n",
    "print(missing_not_plants_animals.loc[missing_not_plants_animals.idxmax()].applymap(lambda x: \"{:,.2f}\".format(x)))"
   ]
  },
  {
   "cell_type": "code",
   "execution_count": null,
   "metadata": {},
   "outputs": [],
   "source": [
    "all_desc = not_plants_animals.describe()\n",
    "print(\"# not plants or animals\")\n",
    "print(all_desc.applymap(lambda x: \"{:,.2f}\".format(x)))\n",
    "print(\"sum: {:,.2f}\".format(not_plants_animals['size_MB'].sum()))\n",
    "print()\n",
    "\n",
    "missing_desc = missing_not_plants_animals.describe()\n",
    "print(\"# missing\")\n",
    "print(missing_desc.applymap(lambda x: \"{:,.2f}\".format(x)))\n",
    "print(\"sum: {:,.2f}\".format(missing_not_plants_animals['size_MB'].sum()))\n",
    "print(\"max:\")\n",
    "print(missing_not_plants_animals.loc[missing_not_plants_animals.idxmax()].applymap(lambda x: \"{:,.2f}\".format(x)))"
   ]
  },
  {
   "cell_type": "code",
   "execution_count": null,
   "metadata": {},
   "outputs": [],
   "source": [
    "with FigureManager(figsize=(10, 8), show=True) as (fig, ax):\n",
    "    sns.distplot(missing_not_plants_animals[\"size_MB\"], kde=False, ax=ax, bins=range(1, 6500, 50))\n",
    "    #sns.swarmplot(data=missing, y=\"size_MB\", color=\".2\", ax=ax)"
   ]
  },
  {
   "cell_type": "code",
   "execution_count": null,
   "metadata": {},
   "outputs": [],
   "source": [
    "len(missing_not_plants_animals[(missing_not_plants_animals[\"size_MB\"] < 3000) & (missing_not_plants_animals[\"size_MB\"] > 0)])"
   ]
  },
  {
   "cell_type": "code",
   "execution_count": null,
   "metadata": {},
   "outputs": [],
   "source": [
    "missing_not_plants_animals[(missing_not_plants_animals[\"size_MB\"] < 3000) & (missing_not_plants_animals[\"size_MB\"] > 0)].sum()"
   ]
  },
  {
   "cell_type": "code",
   "execution_count": null,
   "metadata": {},
   "outputs": [],
   "source": [
    "len(missing_not_plants_animals[(missing_not_plants_animals[\"size_MB\"] > 3000)])"
   ]
  },
  {
   "cell_type": "code",
   "execution_count": null,
   "metadata": {},
   "outputs": [],
   "source": [
    "missing_not_plants_animals[(missing_not_plants_animals[\"size_MB\"] > 3000)].sum()"
   ]
  },
  {
   "cell_type": "code",
   "execution_count": null,
   "metadata": {},
   "outputs": [],
   "source": [
    "with FigureManager(figsize=(10, 8), show=True) as (fig, ax):\n",
    "    sns.distplot(not_plants_animals[\"size_MB\"], kde=False, ax=ax, bins=range(1, 3000, 25))\n",
    "    #sns.swarmplot(data=missing, y=\"size_MB\", color=\".2\", ax=ax)"
   ]
  },
  {
   "cell_type": "markdown",
   "metadata": {},
   "source": [
    "## metagenomes"
   ]
  },
  {
   "cell_type": "code",
   "execution_count": null,
   "metadata": {},
   "outputs": [],
   "source": [
    "metagenomes = pd.read_table(\"metagenomes_20200618.csv\", sep=',', usecols=[\"Run\", \"size_MB\"])\n",
    "\n",
    "done_sigs = pd.read_table(\"done_sigs\", sep=\"\\t\", names=[\"Run\", \"size_KB\"])\n",
    "done_sigs[\"Run\"] = done_sigs[\"Run\"].str.replace(r\".*/(?P<id>\\w+).sig\", lambda m: m.group(\"id\"))\n",
    "done_sigs[\"size_MB\"] = done_sigs[\"size_KB\"] / 1024\n",
    "del done_sigs[\"size_KB\"]\n",
    "done_sigs = done_sigs.set_index(\"Run\")"
   ]
  },
  {
   "cell_type": "code",
   "execution_count": null,
   "metadata": {},
   "outputs": [],
   "source": [
    "missing_metagenomes = metagenomes.drop_duplicates(subset=[\"Run\"]).set_index(\"Run\").reindex(set(metagenomes[\"Run\"]).difference(set(done_sigs.index)))\n",
    "missing_metagenomes = missing_metagenomes[missing_metagenomes[\"size_MB\"] > 0]"
   ]
  },
  {
   "cell_type": "code",
   "execution_count": null,
   "metadata": {},
   "outputs": [],
   "source": [
    "all_desc = metagenomes.describe()\n",
    "print(\"# metagenomes\")\n",
    "print(all_desc.applymap(lambda x: \"{:,.2f}\".format(x)))\n",
    "print(\"sum: {:,.2f}\".format(metagenomes['size_MB'].sum()))\n",
    "print()\n",
    "\n",
    "missing_desc = missing_metagenomes.describe()\n",
    "print(\"# missing\")\n",
    "print(missing_desc.applymap(lambda x: \"{:,.2f}\".format(x)))\n",
    "print(\"sum: {:,.2f}\".format(missing_metagenomes['size_MB'].sum()))\n",
    "print(\"max:\")\n",
    "print(missing_metagenomes.loc[missing_metagenomes.idxmax()].applymap(lambda x: \"{:,.2f}\".format(x)))"
   ]
  },
  {
   "cell_type": "code",
   "execution_count": null,
   "metadata": {},
   "outputs": [],
   "source": [
    "all_desc = metagenomes.describe()\n",
    "print(\"# metagenomes\")\n",
    "print(all_desc.applymap(lambda x: \"{:,.2f}\".format(x)))\n",
    "print(\"sum: {:,.2f}\".format(metagenomes['size_MB'].sum()))\n",
    "print()\n",
    "\n",
    "missing_desc = missing_metagenomes.describe()\n",
    "print(\"# missing\")\n",
    "print(missing_desc.applymap(lambda x: \"{:,.2f}\".format(x)))\n",
    "print(\"sum: {:,.2f}\".format(missing_metagenomes['size_MB'].sum()))\n",
    "print(\"max:\")\n",
    "print(missing_metagenomes.loc[missing_metagenomes.idxmax()].applymap(lambda x: \"{:,.2f}\".format(x)))"
   ]
  },
  {
   "cell_type": "code",
   "execution_count": null,
   "metadata": {},
   "outputs": [],
   "source": [
    "with FigureManager(figsize=(10, 8), show=True) as (fig, ax):\n",
    "    sns.distplot(missing_metagenomes[\"size_MB\"], kde=False, ax=ax, bins=range(1, 3000, 25))\n",
    "    #sns.swarmplot(data=missing, y=\"size_MB\", color=\".2\", ax=ax)"
   ]
  },
  {
   "cell_type": "code",
   "execution_count": null,
   "metadata": {},
   "outputs": [],
   "source": [
    "with FigureManager(figsize=(10, 8), show=True) as (fig, ax):\n",
    "    sns.distplot(metagenomes[\"size_MB\"], kde=False, ax=ax, bins=range(1, 3000, 25))\n",
    "    #sns.swarmplot(data=missing, y=\"size_MB\", color=\".2\", ax=ax)"
   ]
  },
  {
   "cell_type": "markdown",
   "metadata": {},
   "source": [
    "## RefSeq"
   ]
  },
  {
   "cell_type": "code",
   "execution_count": null,
   "metadata": {},
   "outputs": [],
   "source": [
    "refseq = pd.read_table(\"assembly_summary_refseq.txt\", usecols=[\"# accession number\", \"size_MB\"])\n",
    "\n",
    "done_sigs = pd.read_table(\"done_sigs\", sep=\"\\t\", names=[\"Run\", \"size_KB\"])\n",
    "done_sigs[\"Run\"] = done_sigs[\"Run\"].str.replace(r\".*/(?P<id>\\w+).sig\", lambda m: m.group(\"id\"))\n",
    "done_sigs[\"size_MB\"] = done_sigs[\"size_KB\"] / 1024\n",
    "del done_sigs[\"size_KB\"]\n",
    "done_sigs = done_sigs.set_index(\"Run\")"
   ]
  },
  {
   "cell_type": "code",
   "execution_count": null,
   "metadata": {},
   "outputs": [],
   "source": [
    "missing_metagenomes = metagenomes.drop_duplicates(subset=[\"Run\"]).set_index(\"Run\").reindex(set(metagenomes[\"Run\"]).difference(set(done_sigs.index)))\n",
    "missing_metagenomes = missing_metagenomes[missing_metagenomes[\"size_MB\"] > 0]"
   ]
  },
  {
   "cell_type": "code",
   "execution_count": null,
   "metadata": {},
   "outputs": [],
   "source": [
    "all_desc = metagenomes.describe()\n",
    "print(\"# metagenomes\")\n",
    "print(all_desc.applymap(lambda x: \"{:,.2f}\".format(x)))\n",
    "print(\"sum: {:,.2f}\".format(metagenomes['size_MB'].sum()))\n",
    "print()\n",
    "\n",
    "missing_desc = missing_metagenomes.describe()\n",
    "print(\"# missing\")\n",
    "print(missing_desc.applymap(lambda x: \"{:,.2f}\".format(x)))\n",
    "print(\"sum: {:,.2f}\".format(missing_metagenomes['size_MB'].sum()))\n",
    "print(\"max:\")\n",
    "print(missing_metagenomes.loc[missing_metagenomes.idxmax()].applymap(lambda x: \"{:,.2f}\".format(x)))"
   ]
  },
  {
   "cell_type": "code",
   "execution_count": null,
   "metadata": {},
   "outputs": [],
   "source": [
    "all_desc = metagenomes.describe()\n",
    "print(\"# metagenomes\")\n",
    "print(all_desc.applymap(lambda x: \"{:,.2f}\".format(x)))\n",
    "print(\"sum: {:,.2f}\".format(metagenomes['size_MB'].sum()))\n",
    "print()\n",
    "\n",
    "missing_desc = missing_metagenomes.describe()\n",
    "print(\"# missing\")\n",
    "print(missing_desc.applymap(lambda x: \"{:,.2f}\".format(x)))\n",
    "print(\"sum: {:,.2f}\".format(missing_metagenomes['size_MB'].sum()))\n",
    "print(\"max:\")\n",
    "print(missing_metagenomes.loc[missing_metagenomes.idxmax()].applymap(lambda x: \"{:,.2f}\".format(x)))"
   ]
  },
  {
   "cell_type": "code",
   "execution_count": null,
   "metadata": {},
   "outputs": [],
   "source": [
    "with FigureManager(figsize=(10, 8), show=True) as (fig, ax):\n",
    "    sns.distplot(missing_metagenomes[\"size_MB\"], kde=False, ax=ax, bins=range(1, 3000, 25))\n",
    "    #sns.swarmplot(data=missing, y=\"size_MB\", color=\".2\", ax=ax)"
   ]
  },
  {
   "cell_type": "code",
   "execution_count": null,
   "metadata": {},
   "outputs": [],
   "source": [
    "with FigureManager(figsize=(10, 8), show=True) as (fig, ax):\n",
    "    sns.distplot(metagenomes[\"size_MB\"], kde=False, ax=ax, bins=range(1, 3000, 25))\n",
    "    #sns.swarmplot(data=missing, y=\"size_MB\", color=\".2\", ax=ax)"
   ]
  }
 ],
 "metadata": {
  "kernelspec": {
   "display_name": "Python [conda env:thesis] *",
   "language": "python",
   "name": "conda-env-thesis-py"
  },
  "language_info": {
   "codemirror_mode": {
    "name": "ipython",
    "version": 3
   },
   "file_extension": ".py",
   "mimetype": "text/x-python",
   "name": "python",
   "nbconvert_exporter": "python",
   "pygments_lexer": "ipython3",
   "version": "3.7.6"
  }
 },
 "nbformat": 4,
 "nbformat_minor": 4
}
